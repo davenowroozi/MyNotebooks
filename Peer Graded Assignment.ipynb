{
 "cells": [
  {
   "cell_type": "markdown",
   "id": "6f66e58f",
   "metadata": {},
   "source": [
    "# Data Science Tools and Ecosystem\n"
   ]
  },
  {
   "cell_type": "markdown",
   "id": "e7c0417c",
   "metadata": {},
   "source": [
    "## Introduction\n",
    "This notebook provides an overview of various data science tools and their ecosystem. It is created as a final project for the data science course.\n"
   ]
  },
  {
   "cell_type": "markdown",
   "id": "165e524c",
   "metadata": {},
   "source": [
    "## Data Science Languages\n",
    "Some of the popular languages that data scientists use are:\n",
    "1. Python\n",
    "2. R\n",
    "3. SQL\n",
    "4. Julia\n",
    "5. Scala\n",
    "6. Java\n",
    "7. C++\n"
   ]
  },
  {
   "cell_type": "markdown",
   "id": "fa2aa73f",
   "metadata": {},
   "source": [
    "## Data Science Libraries\n",
    "Some of the commonly used libraries used by data scientists include:\n",
    "1. Pandas\n",
    "2. NumPy\n",
    "3. Matplotlib\n",
    "4. Seaborn\n",
    "5. Scikit-learn\n",
    "6. TensorFlow\n",
    "7. Keras\n",
    "8. PyTorch\n"
   ]
  },
  {
   "cell_type": "markdown",
   "id": "d5dbf545",
   "metadata": {},
   "source": [
    "## Data Science Tools\n",
    "| Tool           | Description                                                  |\n",
    "|----------------|--------------------------------------------------------------|\n",
    "| Jupyter Notebook | An open-source web application to create and share documents.|\n",
    "| RStudio        | An integrated development environment for R.                 |\n",
    "| Apache Hadoop  | A framework that allows for the distributed processing of large data sets. |\n",
    "| Apache Spark   | An open-source unified analytics engine for large-scale data processing. |\n",
    "| TensorFlow     | An end-to-end open-source platform for machine learning.     |\n"
   ]
  },
  {
   "cell_type": "markdown",
   "id": "ef274f1c",
   "metadata": {},
   "source": [
    "## Arithmetic Expression Examples\n",
    "In this section, we will demonstrate some basic arithmetic operations.\n"
   ]
  },
  {
   "cell_type": "code",
   "execution_count": 1,
   "id": "2a76089b",
   "metadata": {},
   "outputs": [
    {
     "data": {
      "text/plain": [
       "(20, 9)"
      ]
     },
     "execution_count": 1,
     "metadata": {},
     "output_type": "execute_result"
    }
   ],
   "source": [
    "# Code to multiply and add numbers\n",
    "a = 5\n",
    "b = 4\n",
    "multiplication = a * b\n",
    "addition = a + b\n",
    "multiplication, addition\n"
   ]
  },
  {
   "cell_type": "code",
   "execution_count": 2,
   "id": "61db29a8",
   "metadata": {},
   "outputs": [
    {
     "data": {
      "text/plain": [
       "3.3333333333333335"
      ]
     },
     "execution_count": 2,
     "metadata": {},
     "output_type": "execute_result"
    }
   ],
   "source": [
    "# Code to convert minutes to hours\n",
    "minutes = 200\n",
    "hours = minutes / 60\n",
    "hours\n"
   ]
  },
  {
   "cell_type": "markdown",
   "id": "a4329515",
   "metadata": {},
   "source": [
    "## Objectives\n",
    "- List popular languages for Data Science\n",
    "- List commonly used libraries in Data Science\n",
    "- Create a table of Data Science tools\n",
    "- Provide examples of basic arithmetic operations\n",
    "- Demonstrate code to convert time units\n"
   ]
  },
  {
   "cell_type": "markdown",
   "id": "8d0420e7",
   "metadata": {},
   "source": [
    "## Author\n",
    "Davood Nowroozi\n"
   ]
  },
  {
   "cell_type": "code",
   "execution_count": null,
   "id": "48efab0a",
   "metadata": {},
   "outputs": [],
   "source": []
  }
 ],
 "metadata": {
  "kernelspec": {
   "display_name": "Python 3 (ipykernel)",
   "language": "python",
   "name": "python3"
  },
  "language_info": {
   "codemirror_mode": {
    "name": "ipython",
    "version": 3
   },
   "file_extension": ".py",
   "mimetype": "text/x-python",
   "name": "python",
   "nbconvert_exporter": "python",
   "pygments_lexer": "ipython3",
   "version": "3.11.4"
  }
 },
 "nbformat": 4,
 "nbformat_minor": 5
}
